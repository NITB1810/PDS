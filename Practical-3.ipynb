{
 "cells": [
  {
   "cell_type": "markdown",
   "metadata": {},
   "source": [
    "# pandas"
   ]
  },
  {
   "cell_type": "markdown",
   "metadata": {},
   "source": [
    "### import pandas and load file"
   ]
  },
  {
   "cell_type": "code",
   "execution_count": 19,
   "metadata": {},
   "outputs": [],
   "source": [
    "import pandas as pd\n"
   ]
  },
  {
   "cell_type": "code",
   "execution_count": 21,
   "metadata": {},
   "outputs": [],
   "source": [
    "file_path = \"C:\\\\Users\\\\KRIT PATEL\\\\Documents\\\\PDS\\\\employees.csv\"   \n",
    "df = pd.read_csv(file_path) "
   ]
  },
  {
   "cell_type": "markdown",
   "metadata": {},
   "source": [
    "##### print top 5 rows of data"
   ]
  },
  {
   "cell_type": "code",
   "execution_count": 23,
   "metadata": {},
   "outputs": [
    {
     "name": "stdout",
     "output_type": "stream",
     "text": [
      "  First Name  Gender  Start Date  Salary  Bonus %             Team\n",
      "0    Douglas    Male  08-06-1993   97308    6.945        Marketing\n",
      "1     Thomas    Male   3/31/1996   61933    4.170              NaN\n",
      "2      Maria  Female   4/23/1993  130590   11.858          Finance\n",
      "3      Jerry    Male  03-04-2005  138705    9.340          Finance\n",
      "4      Larry    Male   1/24/1998  101004    1.389  Client Services\n"
     ]
    }
   ],
   "source": [
    "print(df.head(5))"
   ]
  },
  {
   "cell_type": "code",
   "execution_count": 25,
   "metadata": {},
   "outputs": [
    {
     "name": "stdout",
     "output_type": "stream",
     "text": [
      "    First Name  Gender  Start Date  Salary  Bonus %                  Team\n",
      "0      Douglas    Male  08-06-1993   97308    6.945             Marketing\n",
      "1       Thomas    Male   3/31/1996   61933    4.170                   NaN\n",
      "2        Maria  Female   4/23/1993  130590   11.858               Finance\n",
      "3        Jerry    Male  03-04-2005  138705    9.340               Finance\n",
      "4        Larry    Male   1/24/1998  101004    1.389       Client Services\n",
      "..         ...     ...         ...     ...      ...                   ...\n",
      "995      Henry     NaN  11/23/2014  132483   16.655          Distribution\n",
      "996    Phillip    Male   1/31/1984   42392   19.675               Finance\n",
      "997    Russell    Male   5/20/2013   96914    1.421               Product\n",
      "998      Larry    Male   4/20/2013   60500   11.985  Business Development\n",
      "999     Albert    Male   5/15/2012  129949   10.169                 Sales\n",
      "\n",
      "[1000 rows x 6 columns]\n"
     ]
    }
   ],
   "source": [
    "print(df)"
   ]
  },
  {
   "cell_type": "code",
   "execution_count": 27,
   "metadata": {},
   "outputs": [
    {
     "name": "stdout",
     "output_type": "stream",
     "text": [
      "<bound method DataFrame.info of     First Name  Gender  Start Date  Salary  Bonus %                  Team\n",
      "0      Douglas    Male  08-06-1993   97308    6.945             Marketing\n",
      "1       Thomas    Male   3/31/1996   61933    4.170                   NaN\n",
      "2        Maria  Female   4/23/1993  130590   11.858               Finance\n",
      "3        Jerry    Male  03-04-2005  138705    9.340               Finance\n",
      "4        Larry    Male   1/24/1998  101004    1.389       Client Services\n",
      "..         ...     ...         ...     ...      ...                   ...\n",
      "995      Henry     NaN  11/23/2014  132483   16.655          Distribution\n",
      "996    Phillip    Male   1/31/1984   42392   19.675               Finance\n",
      "997    Russell    Male   5/20/2013   96914    1.421               Product\n",
      "998      Larry    Male   4/20/2013   60500   11.985  Business Development\n",
      "999     Albert    Male   5/15/2012  129949   10.169                 Sales\n",
      "\n",
      "[1000 rows x 6 columns]>\n"
     ]
    }
   ],
   "source": [
    "print(df.info)"
   ]
  },
  {
   "cell_type": "code",
   "execution_count": null,
   "metadata": {},
   "outputs": [],
   "source": []
  }
 ],
 "metadata": {
  "kernelspec": {
   "display_name": "Python 3 (ipykernel)",
   "language": "python",
   "name": "python3"
  },
  "language_info": {
   "codemirror_mode": {
    "name": "ipython",
    "version": 3
   },
   "file_extension": ".py",
   "mimetype": "text/x-python",
   "name": "python",
   "nbconvert_exporter": "python",
   "pygments_lexer": "ipython3",
   "version": "3.12.4"
  }
 },
 "nbformat": 4,
 "nbformat_minor": 4
}
